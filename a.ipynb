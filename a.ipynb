{
 "metadata": {
  "language_info": {
   "codemirror_mode": {
    "name": "ipython",
    "version": 3
   },
   "file_extension": ".py",
   "mimetype": "text/x-python",
   "name": "python",
   "nbconvert_exporter": "python",
   "pygments_lexer": "ipython3",
   "version": "3.8.5"
  },
  "orig_nbformat": 2,
  "kernelspec": {
   "name": "python385jvsc74a57bd00adcc2737ebf6a4a119f135174df96668767fca1ef1112612db5ecadf2b6d608",
   "display_name": "Python 3.8.5 64-bit"
  },
  "metadata": {
   "interpreter": {
    "hash": "95c59c8d23b7942b986a27d41b48381771af913b5cbb01b15b2124cef6d98994"
   }
  }
 },
 "nbformat": 4,
 "nbformat_minor": 2,
 "cells": [
  {
   "cell_type": "code",
   "execution_count": 21,
   "metadata": {},
   "outputs": [],
   "source": [
    "# consist of 2d list  n = 5 r = 3\n",
    "# Each inner list consist of a process \n",
    "allocation = [[0,1,0],\n",
    "              [2,0,0],\n",
    "              [3,0,2],\n",
    "              [2,1,1]]\n",
    "\n",
    "maximum_allowance = [[7,5,3],\n",
    "                     [3,2,2],\n",
    "                     [9,0,2],\n",
    "                     [2,2,2]]  # a 2d matrix \n",
    "# Each inner list consist of a process \n",
    "\n",
    "result = [[ 0 for i in range(len(allocation[0]))] for i in range(len(allocation))]\n",
    "\n",
    "# Define a function to calcualte the value from allcoation matrix\n",
    "    # Assuming values of each process and subtracting it with our available.\n",
    "    # return available as as list\n",
    "rwoSum_allocation = [sum(i) for i in zip(*allocation)]  \n",
    "\n",
    "total = [10,5,7]\n",
    "\n",
    "work = [i-j for i,j in zip(total,rwoSum_allocation)]"
   ]
  },
  {
   "source": [
    "# Function to define Need Matrix"
   ],
   "cell_type": "markdown",
   "metadata": {}
  },
  {
   "cell_type": "code",
   "execution_count": 22,
   "metadata": {},
   "outputs": [],
   "source": [
    "# find need matrix form allocation from maximum_allowance (max-allocation)\n",
    "# Define a function called need matrix this returns all in matrix format\n",
    "    # Check if need <= previousFunction()\n",
    "    # update available += allocation\n",
    "def needMatrix(allocation,maximum_allowance): \n",
    "    need = []\n",
    "    for i in range(len(allocation)):\n",
    "        for j in range(len(allocation[0])):\n",
    "            result[i][j] = maximum_allowance[i][j] - allocation[i][j] # This calculates the need of our process\n",
    "    for i in result:\n",
    "        need.append(i)\n",
    "    return need"
   ]
  },
  {
   "source": [
    "# Function for safe sequence"
   ],
   "cell_type": "markdown",
   "metadata": {}
  },
  {
   "cell_type": "code",
   "execution_count": 23,
   "metadata": {},
   "outputs": [],
   "source": [
    "P = len(allocation) # Defines number of process\n",
    "R = len(allocation[0]) # Defones number if resources\n",
    "procs = [i for i in range(P)]"
   ]
  },
  {
   "cell_type": "code",
   "execution_count": 24,
   "metadata": {},
   "outputs": [],
   "source": [
    "def isSafe(procs,allocation,maximum_allowance,work):\n",
    "    done = [0] * P\n",
    "    safe_sequence = [0] * P\n",
    "    w = [0] * R\n",
    "    for i in range(R):\n",
    "        w[i] = work[i] # Copying our avail resources\n",
    "    count = 0\n",
    "    while (count < P):\n",
    "        found = False\n",
    "        for p in range(P):\n",
    "            if (done[p] == 0): \n",
    "                for j in range(R):\n",
    "                    if (needMatrix(allocation,maximum_allowance)[p][j] > work[j]):\n",
    "                        break\n",
    "                if (j == R - 1): \n",
    "                    for k in range(R): \n",
    "                        w[k] += allocation[p][k]\n",
    "                    safe_sequence[count] = p\n",
    "                    count += 1\n",
    "                    done[p] = 1\n",
    "                    found = True\n",
    "        if (found == False):\n",
    "            print(\"System is not in safe state\")\n",
    "            return False\n",
    "    print(\"System is in safe state.\",\"\\nSafe sequence is: \", end = \" \")\n",
    "    print(*safe_sequence) \n",
    "    return True"
   ]
  },
  {
   "cell_type": "code",
   "execution_count": 25,
   "metadata": {},
   "outputs": [
    {
     "output_type": "stream",
     "name": "stdout",
     "text": [
      "System is not in safe state\n"
     ]
    },
    {
     "output_type": "execute_result",
     "data": {
      "text/plain": [
       "False"
      ]
     },
     "metadata": {},
     "execution_count": 25
    }
   ],
   "source": [
    "isSafe(procs,allocation,maximum_allowance,work)"
   ]
  },
  {
   "cell_type": "code",
   "execution_count": 30,
   "metadata": {},
   "outputs": [],
   "source": [
    "import numpy as np\n",
    "visited = np.zeros((P,),dtype=int)\n",
    "Sequence = [0] * P"
   ]
  },
  {
   "cell_type": "code",
   "execution_count": 33,
   "metadata": {},
   "outputs": [
    {
     "output_type": "stream",
     "name": "stdout",
     "text": [
      "The system is Unsafe\n"
     ]
    }
   ],
   "source": [
    "count = 0\n",
    "while( count < P ):\n",
    "    temp=0\n",
    "    for i in range( P ):\n",
    "        if( needMatrix(allocation,maximum_allowance)[i] == 0 ):\n",
    "            if(check(i)):\n",
    "                Sequence[count]=i;\n",
    "                count+=1\n",
    "                visited[i]=1\n",
    "                temp=1\n",
    "                for j in range(no_r):\n",
    "                    work[j] += allocation[i][j] \n",
    "    if(temp == 0):\n",
    "        break\n",
    "if(count < P):\n",
    "    print('The system is Unsafe')\n",
    "else:\n",
    "    print(\"The system is Safe\")\n",
    "    print(\"Safe Sequence: \",Sequence)\n",
    "    print(\"Available Resource:\",available)"
   ]
  },
  {
   "cell_type": "code",
   "execution_count": 1,
   "metadata": {},
   "outputs": [],
   "source": [
    "import smtplib"
   ]
  },
  {
   "cell_type": "code",
   "execution_count": 4,
   "metadata": {},
   "outputs": [],
   "source": [
    "from multiprocessing import Process,freeze_support"
   ]
  },
  {
   "cell_type": "code",
   "execution_count": null,
   "metadata": {},
   "outputs": [],
   "source": [
    "from email.mime.multipart import MIMEMultipart\n",
    "from email.mime.text import MIMEText\n",
    "import pandas as pd"
   ]
  },
  {
   "cell_type": "code",
   "execution_count": 1,
   "metadata": {},
   "outputs": [],
   "source": [
    "import smtplib\n",
    "from email.mime.multipart import MIMEMultipart\n",
    "from email.mime.base import MIMEBase\n",
    "from email.mime.text import MIMEText\n",
    "from email import encoders"
   ]
  },
  {
   "cell_type": "code",
   "execution_count": 2,
   "metadata": {},
   "outputs": [
    {
     "output_type": "execute_result",
     "data": {
      "text/plain": [
       "(221, b'2.0.0 Service closing transmission channel')"
      ]
     },
     "metadata": {},
     "execution_count": 2
    }
   ],
   "source": [
    "## FILE TO SEND AND ITS PATH\n",
    "filename = 'log.txt' \n",
    "SourcePathName  = '/Users/aneruthmohanasundaram/Documents/GitHub/OSSEC-Project/' + filename \n",
    "\n",
    "msg = MIMEMultipart()\n",
    "msg['From'] = 'aneruth.mohanasundaram@vub.be'\n",
    "msg['To'] = 'ane1998@gmail.com'\n",
    "msg['Subject'] = 'Report Update'\n",
    "body = 'Basic log file generation'\n",
    "msg.attach(MIMEText(body, 'plain'))\n",
    "\n",
    "## ATTACHMENT PART OF THE CODE IS HERE\n",
    "attachment = open(SourcePathName, 'rb')\n",
    "part = MIMEBase('application', \"octet-stream\")\n",
    "part.set_payload((attachment).read())\n",
    "encoders.encode_base64(part)\n",
    "part.add_header('Content-Disposition', \"attachment; filename= %s\" % filename)\n",
    "msg.attach(part)\n",
    "\n",
    "server = smtplib.SMTP('smtp.office365.com', 587)  ### put your relevant SMTP here\n",
    "server.ehlo()\n",
    "server.starttls()\n",
    "server.ehlo()\n",
    "server.login('aneruth.mohanasundaram@vub.be', 'Aner$98')  ### if applicable\n",
    "server.send_message(msg)\n",
    "server.quit()"
   ]
  },
  {
   "cell_type": "code",
   "execution_count": 3,
   "metadata": {},
   "outputs": [
    {
     "output_type": "execute_result",
     "data": {
      "text/plain": [
       "<email.mime.multipart.MIMEMultipart at 0x7f8750c74ac0>"
      ]
     },
     "metadata": {},
     "execution_count": 3
    }
   ],
   "source": [
    "msg"
   ]
  },
  {
   "cell_type": "code",
   "execution_count": 4,
   "metadata": {},
   "outputs": [
    {
     "output_type": "stream",
     "name": "stdout",
     "text": [
      "Content-Type\nMIME-Version\nFrom\nTo\nSubject\n"
     ]
    }
   ],
   "source": [
    "for i in msg:\n",
    "    print(i)"
   ]
  },
  {
   "cell_type": "code",
   "execution_count": 1,
   "metadata": {},
   "outputs": [],
   "source": [
    "import logging as log"
   ]
  },
  {
   "cell_type": "code",
   "execution_count": 3,
   "metadata": {},
   "outputs": [
    {
     "output_type": "stream",
     "name": "stdout",
     "text": [
      "None\n"
     ]
    }
   ],
   "source": [
    "print(log.info('Aneruth'))"
   ]
  },
  {
   "cell_type": "code",
   "execution_count": 3,
   "metadata": {},
   "outputs": [
    {
     "output_type": "execute_result",
     "data": {
      "text/plain": [
       "'[0, 1, 0]'"
      ]
     },
     "metadata": {},
     "execution_count": 3
    }
   ],
   "source": [
    "''.join(str([0, 1, 0 ]))"
   ]
  },
  {
   "cell_type": "code",
   "execution_count": 4,
   "metadata": {},
   "outputs": [],
   "source": [
    "import numpy as np \n",
    "a = np.array([[7, 4, 3], [1, 2, 2], [6, 0, 0], [0, 1, 1], [4, 3, 1]])"
   ]
  },
  {
   "cell_type": "code",
   "execution_count": 7,
   "metadata": {},
   "outputs": [
    {
     "output_type": "execute_result",
     "data": {
      "text/plain": [
       "array([[7, 4, 3],\n",
       "       [1, 2, 2],\n",
       "       [6, 0, 0],\n",
       "       [0, 1, 1],\n",
       "       [4, 3, 1]])"
      ]
     },
     "metadata": {},
     "execution_count": 7
    }
   ],
   "source": [
    "a"
   ]
  },
  {
   "cell_type": "code",
   "execution_count": 10,
   "metadata": {},
   "outputs": [
    {
     "output_type": "error",
     "ename": "ImportError",
     "evalue": "cannot import name 'TableService' from 'azure.storage' (unknown location)",
     "traceback": [
      "\u001b[0;31m---------------------------------------------------------------------------\u001b[0m",
      "\u001b[0;31mImportError\u001b[0m                               Traceback (most recent call last)",
      "\u001b[0;32m<ipython-input-10-e20e9ce116c5>\u001b[0m in \u001b[0;36m<module>\u001b[0;34m\u001b[0m\n\u001b[0;32m----> 1\u001b[0;31m \u001b[0;32mfrom\u001b[0m \u001b[0mazure\u001b[0m\u001b[0;34m.\u001b[0m\u001b[0mstorage\u001b[0m \u001b[0;32mimport\u001b[0m \u001b[0mTableService\u001b[0m\u001b[0;34m\u001b[0m\u001b[0;34m\u001b[0m\u001b[0m\n\u001b[0m",
      "\u001b[0;31mImportError\u001b[0m: cannot import name 'TableService' from 'azure.storage' (unknown location)"
     ]
    }
   ],
   "source": [
    "from azure.storage import TableService\n"
   ]
  },
  {
   "cell_type": "code",
   "execution_count": null,
   "metadata": {},
   "outputs": [],
   "source": [
    "table_service = TableService(account_name='xxx', account_key='YYY')\n",
    "i=0\n",
    "tasks=table_service.query_entities('ValidOutputTable',\"PartitionKey eq 'tasksSeattle'\")\n",
    "for task in tasks:\n",
    "    i+=1\n",
    "    print task.RowKey,task.DomainUrl,task.Status    \n",
    "print i"
   ]
  },
  {
   "cell_type": "code",
   "execution_count": 11,
   "metadata": {},
   "outputs": [
    {
     "output_type": "error",
     "ename": "ModuleNotFoundError",
     "evalue": "No module named 'azure.functions'",
     "traceback": [
      "\u001b[0;31m---------------------------------------------------------------------------\u001b[0m",
      "\u001b[0;31mModuleNotFoundError\u001b[0m                       Traceback (most recent call last)",
      "\u001b[0;32m<ipython-input-11-3741b472170e>\u001b[0m in \u001b[0;36m<module>\u001b[0;34m\u001b[0m\n\u001b[1;32m      1\u001b[0m \u001b[0;32mimport\u001b[0m \u001b[0mlogging\u001b[0m\u001b[0;34m,\u001b[0m\u001b[0mnumpy\u001b[0m \u001b[0;32mas\u001b[0m \u001b[0mnp\u001b[0m\u001b[0;34m\u001b[0m\u001b[0;34m\u001b[0m\u001b[0m\n\u001b[0;32m----> 2\u001b[0;31m \u001b[0;32mimport\u001b[0m \u001b[0mazure\u001b[0m\u001b[0;34m.\u001b[0m\u001b[0mfunctions\u001b[0m \u001b[0;32mas\u001b[0m \u001b[0mfunc\u001b[0m\u001b[0;34m\u001b[0m\u001b[0;34m\u001b[0m\u001b[0m\n\u001b[0m\u001b[1;32m      3\u001b[0m \u001b[0;32mfrom\u001b[0m \u001b[0mazure\u001b[0m\u001b[0;34m.\u001b[0m\u001b[0mstorage\u001b[0m\u001b[0;34m.\u001b[0m\u001b[0mtable\u001b[0m \u001b[0;32mimport\u001b[0m \u001b[0mTableService\u001b[0m\u001b[0;34m\u001b[0m\u001b[0;34m\u001b[0m\u001b[0m\n\u001b[1;32m      4\u001b[0m \u001b[0;34m\u001b[0m\u001b[0m\n\u001b[1;32m      5\u001b[0m \u001b[0mtable_service\u001b[0m \u001b[0;34m=\u001b[0m \u001b[0mTableService\u001b[0m\u001b[0;34m(\u001b[0m\u001b[0maccount_name\u001b[0m\u001b[0;34m=\u001b[0m\u001b[0;34m'storagebankersalgorithm'\u001b[0m\u001b[0;34m,\u001b[0m \u001b[0maccount_key\u001b[0m\u001b[0;34m=\u001b[0m\u001b[0;34m'D36RqEMiAugfFpAegohTsURNMScBAM1LGqsiAdbPvhCBHEtlduAwmZorE7tTLg0wRme6OvpfnrrnOKovc6+SOg=='\u001b[0m\u001b[0;34m)\u001b[0m\u001b[0;34m\u001b[0m\u001b[0;34m\u001b[0m\u001b[0m\n",
      "\u001b[0;31mModuleNotFoundError\u001b[0m: No module named 'azure.functions'"
     ]
    }
   ],
   "source": [
    "\n",
    "import logging,numpy as np\n",
    "import azure.functions as func\n",
    "from azure.storage.table import TableService \n",
    "\n",
    "table_service = TableService(account_name='storagebankersalgorithm', account_key='D36RqEMiAugfFpAegohTsURNMScBAM1LGqsiAdbPvhCBHEtlduAwmZorE7tTLg0wRme6OvpfnrrnOKovc6+SOg==')\n",
    "\n",
    "rows=table_service.query_entities('allocationtable',\"PartitionKey eq 'process'\")\n",
    "\n",
    "logging.info(f\"Found process : {len(rows)}\")\n",
    "\n",
    "for row in rows:\n",
    "    print(row.RowKey,row.allocations,row.maxallocations)\n",
    "    # allocat = np.array(row.allocations)\n",
    "    # maxallocat = np.array(row.maxallocations)\n",
    "    # allocation.append(allocat.tolist())\n",
    "    # maxallocations.append(maxallocat.tolist())\n",
    "    allocation = [i for i in row.allocations] \n",
    "    maxallocations = [i for i in row.maxallocations]"
   ]
  },
  {
   "cell_type": "code",
   "execution_count": null,
   "metadata": {},
   "outputs": [],
   "source": []
  }
 ]
}