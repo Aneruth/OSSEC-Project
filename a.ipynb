{
 "metadata": {
  "language_info": {
   "codemirror_mode": {
    "name": "ipython",
    "version": 3
   },
   "file_extension": ".py",
   "mimetype": "text/x-python",
   "name": "python",
   "nbconvert_exporter": "python",
   "pygments_lexer": "ipython3",
   "version": "3.8.5-final"
  },
  "orig_nbformat": 2,
  "kernelspec": {
   "name": "python3",
   "display_name": "Python 3.8.5 64-bit",
   "metadata": {
    "interpreter": {
     "hash": "aee8b7b246df8f9039afb4144a1f6fd8d2ca17a180786b69acc140d282b71a49"
    }
   }
  }
 },
 "nbformat": 4,
 "nbformat_minor": 2,
 "cells": [
  {
   "cell_type": "code",
   "execution_count": 27,
   "metadata": {},
   "outputs": [],
   "source": [
    "allocation = [[0,1,1],[2,0,0],[3,0,2],[2,1,1]] # consist of 2d list \n",
    "# Each inner list consist of a process \n",
    "\n",
    "maximum_allowance = [[7,5,3],[3,2,2],[9,0,2],[4,3,3]] # a 2d matrix \n",
    "# Each inner list consist of a process \n",
    "\n",
    "result = [[0,0,0],[0,0,0],[0,0,0],[0,0,0]]\n",
    "\n",
    "# Define a function to calcualte the value from allcoation matrix\n",
    "    # Assuming values of each process and subtracting it with our available.\n",
    "    # return available as as list\n",
    "work = [sum(i) for i in zip(*allocation)]  "
   ]
  },
  {
   "cell_type": "code",
   "execution_count": 28,
   "metadata": {},
   "outputs": [],
   "source": [
    "# find need matrix form allocation from maximum_allowance (max-allocation)\n",
    "# Define a function called need matrix this returns all in matrix format\n",
    "    # Check if need <= previousFunction()\n",
    "    # update available += allocation\n",
    "def needMatrix(allocation,maximum_allowance): \n",
    "    need = []\n",
    "    for i in range(len(allocation)):\n",
    "        for j in range(len(allocation[0])):\n",
    "            result[i][j] = maximum_allowance[i][j] - allocation[i][j] # This calculates the need of our process\n",
    "    for i in result:\n",
    "        need.append(i)\n",
    "    \n",
    "    # Considering all process are incomplete.\n",
    "    # The allocation provides us the number of process present. This can be done by considering the list of our allocation matrix.\n",
    "    done = [0] * len(allocation) \n",
    "    \n",
    "    # To print safe sequence for our problem\n",
    "    # This safety sequence provides us which all process are safe\n",
    "    # Initially we are assigning our safe sequence as 0 with the length of our allocation. \n",
    "    safe_sequence = [0] * len(allocation)\n",
    "\n",
    "    pointer = 0\n",
    "\n",
    "    while (pointer < len(allocation)):\n",
    "        find = False\n",
    "\n",
    "        for i in range(len(allocation)):\n",
    "\n",
    "            for j in range(len(work)):\n",
    "\n",
    "                if need[i][j] > work[j]:\n",
    "                    pointer = 1\n",
    "                    break\n",
    "            \n",
    "            if (j == len(work)-1):\n",
    "\n",
    "                for k in range(len(work)):\n",
    "                    work[k] += allocation[i][k]\n",
    "                \n",
    "                safe_sequence[0] = i\n",
    "                pointer += 1\n",
    "                done[i] = 1\n",
    "                find = True\n",
    "\n",
    "        if find == False:\n",
    "            return f\"Is system in safe state: {False}\"\n",
    "    \n",
    "    print(\"System is in safe state.\", \"\\nSafe sequence is: \", end = \" \") \n",
    "    print(*safe_sequence) \n",
    "\n",
    "    return True"
   ]
  },
  {
   "cell_type": "code",
   "execution_count": 29,
   "metadata": {},
   "outputs": [
    {
     "output_type": "stream",
     "name": "stdout",
     "text": [
      "System is in safe state. \nSafe sequence is:  3 0 0 0\n"
     ]
    },
    {
     "output_type": "execute_result",
     "data": {
      "text/plain": [
       "True"
      ]
     },
     "metadata": {},
     "execution_count": 29
    }
   ],
   "source": [
    "needMatrix(allocation,maximum_allowance)"
   ]
  },
  {
   "cell_type": "code",
   "execution_count": 30,
   "metadata": {},
   "outputs": [
    {
     "output_type": "execute_result",
     "data": {
      "text/plain": [
       "[[7, 4, 2], [1, 2, 2], [6, 0, 0], [2, 2, 2]]"
      ]
     },
     "metadata": {},
     "execution_count": 30
    }
   ],
   "source": [
    "def needMatrix(allocation,maximum_allowance): \n",
    "    need = []\n",
    "    for i in range(len(allocation)):\n",
    "        for j in range(len(allocation[0])):\n",
    "            result[i][j] = maximum_allowance[i][j] - allocation[i][j] # This calculates the need of our process\n",
    "    for i in result:\n",
    "        need.append(i)\n",
    "    return need\n",
    "needMatrix(allocation,maximum_allowance)"
   ]
  },
  {
   "cell_type": "code",
   "execution_count": null,
   "metadata": {},
   "outputs": [],
   "source": []
  }
 ]
}