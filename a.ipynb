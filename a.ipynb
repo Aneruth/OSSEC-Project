{
 "metadata": {
  "language_info": {
   "codemirror_mode": {
    "name": "ipython",
    "version": 3
   },
   "file_extension": ".py",
   "mimetype": "text/x-python",
   "name": "python",
   "nbconvert_exporter": "python",
   "pygments_lexer": "ipython3",
   "version": "3.8.5-final"
  },
  "orig_nbformat": 2,
  "kernelspec": {
   "name": "python3",
   "display_name": "Python 3.8.5 64-bit",
   "metadata": {
    "interpreter": {
     "hash": "aee8b7b246df8f9039afb4144a1f6fd8d2ca17a180786b69acc140d282b71a49"
    }
   }
  }
 },
 "nbformat": 4,
 "nbformat_minor": 2,
 "cells": [
  {
   "cell_type": "code",
   "execution_count": 45,
   "metadata": {},
   "outputs": [],
   "source": [
    "allocation = [[0,1,0],\n",
    "              [2,0,0],\n",
    "              [3,0,2],\n",
    "              [2,1,1],\n",
    "              [0,0,2]] # consist of 2d list  n = 5 r = 3\n",
    "# Each inner list consist of a process \n",
    "\n",
    "maximum_allowance = [[7,5,3],\n",
    "                     [3,2,2],\n",
    "                     [9,0,2],\n",
    "                     [2,2,2],\n",
    "                     [4,3,3]]  # a 2d matrix \n",
    "# Each inner list consist of a process \n",
    "\n",
    "result = [[ 0 for i in range(len(allocation[0]))] for i in range(len(allocation))]\n",
    "\n",
    "# Define a function to calcualte the value from allcoation matrix\n",
    "    # Assuming values of each process and subtracting it with our available.\n",
    "    # return available as as list\n",
    "work = [sum(i) for i in zip(*allocation)]  \n",
    "\n",
    "total = [10,5,7]"
   ]
  },
  {
   "cell_type": "code",
   "execution_count": null,
   "metadata": {},
   "outputs": [],
   "source": [
    "allocation = [ [a],[b],[c] ]"
   ]
  },
  {
   "source": [
    "# Function to define Need Matrix"
   ],
   "cell_type": "markdown",
   "metadata": {}
  },
  {
   "cell_type": "code",
   "execution_count": 25,
   "metadata": {},
   "outputs": [],
   "source": [
    "# find need matrix form allocation from maximum_allowance (max-allocation)\n",
    "# Define a function called need matrix this returns all in matrix format\n",
    "    # Check if need <= previousFunction()\n",
    "    # update available += allocation\n",
    "def needMatrix(allocation,maximum_allowance): \n",
    "    need = []\n",
    "    for i in range(len(allocation)):\n",
    "        for j in range(len(allocation[0])):\n",
    "            result[i][j] = maximum_allowance[i][j] - allocation[i][j] # This calculates the need of our process\n",
    "    for i in result:\n",
    "        need.append(i)\n",
    "    return need"
   ]
  },
  {
   "source": [
    "# Function for safe sequence"
   ],
   "cell_type": "markdown",
   "metadata": {}
  },
  {
   "cell_type": "code",
   "execution_count": 26,
   "metadata": {},
   "outputs": [],
   "source": [
    "# # Considering all process are incomplete.\n",
    "# # The allocation provides us the number of process present. This can be done by considering the list of our allocation matrix.\n",
    "# def SafeSequence(fn):      \n",
    "#     done = [0] * len(allocation) \n",
    "    \n",
    "#     # To print safe sequence for our problem\n",
    "#     # This safety sequence provides us which all process are safe\n",
    "#     # Initially we are assigning our safe sequence as 0 with the length of our allocation. \n",
    "#     safe_sequence = [0] * len(allocation)\n",
    "\n",
    "#     for i in range(len(allocation)):\n",
    "#         for j in range(len(work)):\n",
    "#             if needMatrix(allocation,maximum_allowance[i][j]) > work[j]:\n",
    "                "
   ]
  },
  {
   "cell_type": "code",
   "execution_count": 27,
   "metadata": {},
   "outputs": [],
   "source": [
    "d = [0] * len(allocation)\n",
    "s = [0] * len(allocation)\n",
    "for i in range(len(allocation)):\n",
    "    for j in range(len(work)):\n",
    "        if needMatrix(allocation,maximum_allowance)[i][j] <= work[j]:\n",
    "            work[k] += allocation[i][k]"
   ]
  },
  {
   "cell_type": "code",
   "execution_count": 30,
   "metadata": {},
   "outputs": [],
   "source": [
    "pro = [i for i in range(len(allocation))]"
   ]
  },
  {
   "cell_type": "code",
   "execution_count": 31,
   "metadata": {},
   "outputs": [
    {
     "output_type": "execute_result",
     "data": {
      "text/plain": [
       "[0, 1, 2, 3, 4]"
      ]
     },
     "metadata": {},
     "execution_count": 31
    }
   ],
   "source": [
    "pro"
   ]
  },
  {
   "cell_type": "code",
   "execution_count": 37,
   "metadata": {},
   "outputs": [],
   "source": [
    "s = [0] * len(allocation)\n",
    "for i in pro:\n",
    "    for j in range(len(work)):\n",
    "        if needMatrix(allocation,maximum_allowance)[i][j] <= work[j]:\n",
    "            work[j] += allocation[i][j]\n",
    "s[0] = i"
   ]
  },
  {
   "cell_type": "code",
   "execution_count": 38,
   "metadata": {},
   "outputs": [
    {
     "output_type": "execute_result",
     "data": {
      "text/plain": [
       "[4, 0, 0, 0, 0]"
      ]
     },
     "metadata": {},
     "execution_count": 38
    }
   ],
   "source": [
    "s"
   ]
  },
  {
   "cell_type": "code",
   "execution_count": 39,
   "metadata": {},
   "outputs": [],
   "source": [
    "for i in range(len(allocation)):\n",
    "    for j in range(len(allocation[0])):\n",
    "        result[i][j] = maximum_allowance[i][j] - allocation[i][j] # This calculates the need of our process"
   ]
  },
  {
   "cell_type": "code",
   "execution_count": 40,
   "metadata": {},
   "outputs": [
    {
     "output_type": "execute_result",
     "data": {
      "text/plain": [
       "[[7, 4, 3], [1, 2, 2], [6, 0, 0], [0, 1, 1], [4, 3, 1]]"
      ]
     },
     "metadata": {},
     "execution_count": 40
    }
   ],
   "source": [
    "result"
   ]
  },
  {
   "cell_type": "code",
   "execution_count": null,
   "metadata": {},
   "outputs": [],
   "source": []
  }
 ]
}